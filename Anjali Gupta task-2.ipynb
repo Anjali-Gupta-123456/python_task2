{
 "cells": [
  {
   "cell_type": "code",
   "execution_count": 15,
   "id": "99050f25-ba5e-4084-a867-588d850c8a1d",
   "metadata": {},
   "outputs": [],
   "source": [
    "list1 = []\n"
   ]
  },
  {
   "cell_type": "code",
   "execution_count": 17,
   "id": "d4d08954-7021-4a69-9589-763a433791e8",
   "metadata": {},
   "outputs": [
    {
     "data": {
      "text/plain": [
       "[]"
      ]
     },
     "execution_count": 17,
     "metadata": {},
     "output_type": "execute_result"
    }
   ],
   "source": [
    "list1"
   ]
  },
  {
   "cell_type": "code",
   "execution_count": 19,
   "id": "c9d7cc8d-a35f-4c76-b184-7426798ed226",
   "metadata": {},
   "outputs": [],
   "source": [
    "list2 = [1,2,3,4,5,6]"
   ]
  },
  {
   "cell_type": "code",
   "execution_count": 21,
   "id": "38af1251-cd55-4e94-bbfc-180e13d467f1",
   "metadata": {},
   "outputs": [
    {
     "data": {
      "text/plain": [
       "[1, 2, 3, 4, 5, 6]"
      ]
     },
     "execution_count": 21,
     "metadata": {},
     "output_type": "execute_result"
    }
   ],
   "source": [
    "list2"
   ]
  },
  {
   "cell_type": "code",
   "execution_count": 23,
   "id": "efde873a-291e-430a-b80a-55c17a3a5583",
   "metadata": {},
   "outputs": [],
   "source": [
    "list3 = ['a1','a2','a3']"
   ]
  },
  {
   "cell_type": "code",
   "execution_count": 25,
   "id": "44df3b45-aba2-40bc-90b0-5a322e80746b",
   "metadata": {},
   "outputs": [
    {
     "data": {
      "text/plain": [
       "['a1', 'a2', 'a3']"
      ]
     },
     "execution_count": 25,
     "metadata": {},
     "output_type": "execute_result"
    }
   ],
   "source": [
    "list3"
   ]
  },
  {
   "cell_type": "code",
   "execution_count": 27,
   "id": "5f642632-aead-421b-b5e0-8520117fda98",
   "metadata": {},
   "outputs": [],
   "source": [
    "list4 = [1,'a1',2,'a2']"
   ]
  },
  {
   "cell_type": "code",
   "execution_count": 29,
   "id": "3417f297-ef2d-4e49-8622-df40eb62424f",
   "metadata": {},
   "outputs": [
    {
     "data": {
      "text/plain": [
       "[1, 'a1', 2, 'a2']"
      ]
     },
     "execution_count": 29,
     "metadata": {},
     "output_type": "execute_result"
    }
   ],
   "source": [
    "list4"
   ]
  },
  {
   "cell_type": "code",
   "execution_count": 31,
   "id": "6a881415-d797-4bd8-af77-e034408acde9",
   "metadata": {},
   "outputs": [],
   "source": [
    "list5 = [[1,2,3],[4,5,6]]"
   ]
  },
  {
   "cell_type": "code",
   "execution_count": 33,
   "id": "1a539b30-0a6a-46e8-b02a-8ffcd1bdaf82",
   "metadata": {},
   "outputs": [
    {
     "data": {
      "text/plain": [
       "[[1, 2, 3], [4, 5, 6]]"
      ]
     },
     "execution_count": 33,
     "metadata": {},
     "output_type": "execute_result"
    }
   ],
   "source": [
    "list5"
   ]
  },
  {
   "cell_type": "code",
   "execution_count": 35,
   "id": "34ab972e-c9dc-40af-822d-b5de93e88269",
   "metadata": {},
   "outputs": [
    {
     "data": {
      "text/plain": [
       "[]"
      ]
     },
     "execution_count": 35,
     "metadata": {},
     "output_type": "execute_result"
    }
   ],
   "source": [
    "list1"
   ]
  },
  {
   "cell_type": "code",
   "execution_count": 37,
   "id": "92e44d8d-5c06-402b-9b04-431abefa46c3",
   "metadata": {},
   "outputs": [
    {
     "data": {
      "text/plain": [
       "[1, 2, 3, 4, 5, 6]"
      ]
     },
     "execution_count": 37,
     "metadata": {},
     "output_type": "execute_result"
    }
   ],
   "source": [
    "list2"
   ]
  },
  {
   "cell_type": "code",
   "execution_count": 39,
   "id": "7ff37c6c-8e19-4ce0-a9b3-c4cbaa82a2a9",
   "metadata": {},
   "outputs": [
    {
     "data": {
      "text/plain": [
       "1"
      ]
     },
     "execution_count": 39,
     "metadata": {},
     "output_type": "execute_result"
    }
   ],
   "source": [
    "list2[0]"
   ]
  },
  {
   "cell_type": "code",
   "execution_count": 41,
   "id": "85cccc46-9d0a-4331-9cb7-4a06f66d5e23",
   "metadata": {},
   "outputs": [
    {
     "data": {
      "text/plain": [
       "6"
      ]
     },
     "execution_count": 41,
     "metadata": {},
     "output_type": "execute_result"
    }
   ],
   "source": [
    "list2[-1]"
   ]
  },
  {
   "cell_type": "code",
   "execution_count": 45,
   "id": "abb597e4-10c0-4a9a-a8c1-ce4e30d97855",
   "metadata": {},
   "outputs": [
    {
     "data": {
      "text/plain": [
       "3"
      ]
     },
     "execution_count": 45,
     "metadata": {},
     "output_type": "execute_result"
    }
   ],
   "source": [
    "list2[2]"
   ]
  },
  {
   "cell_type": "code",
   "execution_count": 47,
   "id": "b56a089d-6bdb-4244-8357-13cc5710dcdd",
   "metadata": {},
   "outputs": [
    {
     "data": {
      "text/plain": [
       "5"
      ]
     },
     "execution_count": 47,
     "metadata": {},
     "output_type": "execute_result"
    }
   ],
   "source": [
    "list2[-2]"
   ]
  },
  {
   "cell_type": "code",
   "execution_count": 49,
   "id": "d0118b03-5c1a-44f2-a5c7-79bed7f9ab55",
   "metadata": {},
   "outputs": [
    {
     "data": {
      "text/plain": [
       "[[1, 2, 3], [4, 5, 6]]"
      ]
     },
     "execution_count": 49,
     "metadata": {},
     "output_type": "execute_result"
    }
   ],
   "source": [
    "list5"
   ]
  },
  {
   "cell_type": "code",
   "execution_count": 55,
   "id": "11fe3d0f-c1d2-4f77-84f3-3f06dab12b77",
   "metadata": {},
   "outputs": [
    {
     "data": {
      "text/plain": [
       "2"
      ]
     },
     "execution_count": 55,
     "metadata": {},
     "output_type": "execute_result"
    }
   ],
   "source": [
    "list5[0][1]"
   ]
  },
  {
   "cell_type": "code",
   "execution_count": 57,
   "id": "dc5182a9-8b1e-4a92-8c18-ea1a4589d859",
   "metadata": {},
   "outputs": [],
   "source": [
    "list6 = [1,'ARC',True]"
   ]
  },
  {
   "cell_type": "code",
   "execution_count": 59,
   "id": "f14a573d-045e-43ff-af80-ee0d578070e0",
   "metadata": {},
   "outputs": [
    {
     "data": {
      "text/plain": [
       "[1, 'ARC', True]"
      ]
     },
     "execution_count": 59,
     "metadata": {},
     "output_type": "execute_result"
    }
   ],
   "source": [
    "list6"
   ]
  },
  {
   "cell_type": "code",
   "execution_count": 61,
   "id": "8a1335dd-8b5d-4e6c-af59-014f1f7e27ee",
   "metadata": {},
   "outputs": [
    {
     "data": {
      "text/plain": [
       "'ARC'"
      ]
     },
     "execution_count": 61,
     "metadata": {},
     "output_type": "execute_result"
    }
   ],
   "source": [
    "list6[1]"
   ]
  },
  {
   "cell_type": "code",
   "execution_count": 63,
   "id": "460e72e0-f786-4f42-b227-83c738ab0f67",
   "metadata": {},
   "outputs": [
    {
     "data": {
      "text/plain": [
       "True"
      ]
     },
     "execution_count": 63,
     "metadata": {},
     "output_type": "execute_result"
    }
   ],
   "source": [
    "list6[-1]"
   ]
  },
  {
   "cell_type": "code",
   "execution_count": 71,
   "id": "b3c70bcb-25fb-4ecd-91f5-a8b63fd37f14",
   "metadata": {},
   "outputs": [
    {
     "data": {
      "text/plain": [
       "1"
      ]
     },
     "execution_count": 71,
     "metadata": {},
     "output_type": "execute_result"
    }
   ],
   "source": [
    "list6[0]"
   ]
  },
  {
   "cell_type": "code",
   "execution_count": 73,
   "id": "5636de9a-d455-44c1-9b30-67a99e7f140c",
   "metadata": {},
   "outputs": [],
   "source": [
    "list7 = [12,22,456,63,785,957,412,45,456,123,321,745,658,412,152]"
   ]
  },
  {
   "cell_type": "code",
   "execution_count": 75,
   "id": "6fba1db6-42d1-4fa4-9847-6a25a3f07918",
   "metadata": {},
   "outputs": [
    {
     "data": {
      "text/plain": [
       "[12, 22, 456, 63, 785, 957, 412, 45, 456, 123, 321, 745, 658, 412, 152]"
      ]
     },
     "execution_count": 75,
     "metadata": {},
     "output_type": "execute_result"
    }
   ],
   "source": [
    "list7"
   ]
  },
  {
   "cell_type": "code",
   "execution_count": 77,
   "id": "b8c147fd-a446-4d16-bad1-db6870e37ee2",
   "metadata": {},
   "outputs": [
    {
     "data": {
      "text/plain": [
       "152"
      ]
     },
     "execution_count": 77,
     "metadata": {},
     "output_type": "execute_result"
    }
   ],
   "source": [
    "list7[-1]"
   ]
  },
  {
   "cell_type": "code",
   "execution_count": 79,
   "id": "0d4d5037-3c46-43ff-abb5-73f0f6238a61",
   "metadata": {},
   "outputs": [
    {
     "data": {
      "text/plain": [
       "[456, 63, 785, 957]"
      ]
     },
     "execution_count": 79,
     "metadata": {},
     "output_type": "execute_result"
    }
   ],
   "source": [
    "list7[2:6]"
   ]
  },
  {
   "cell_type": "code",
   "execution_count": 81,
   "id": "e23bcccd-df48-496f-acbf-ce190af3814f",
   "metadata": {},
   "outputs": [
    {
     "data": {
      "text/plain": [
       "[12, 22, 456, 63, 785]"
      ]
     },
     "execution_count": 81,
     "metadata": {},
     "output_type": "execute_result"
    }
   ],
   "source": [
    "list7[0:5]"
   ]
  },
  {
   "cell_type": "code",
   "execution_count": 83,
   "id": "63fa32c7-ebb3-457e-8960-d4d58b1018da",
   "metadata": {},
   "outputs": [
    {
     "data": {
      "text/plain": [
       "[]"
      ]
     },
     "execution_count": 83,
     "metadata": {},
     "output_type": "execute_result"
    }
   ],
   "source": [
    "list7[-1:-4]"
   ]
  },
  {
   "cell_type": "code",
   "execution_count": 85,
   "id": "944a2f7d-0ba6-4f76-a988-88c8b5c8d7c5",
   "metadata": {},
   "outputs": [
    {
     "data": {
      "text/plain": [
       "[957, 412, 45, 456, 123, 321, 745, 658, 412]"
      ]
     },
     "execution_count": 85,
     "metadata": {},
     "output_type": "execute_result"
    }
   ],
   "source": [
    "list7[5:-1]"
   ]
  },
  {
   "cell_type": "code",
   "execution_count": 87,
   "id": "2882447c-f8f3-4a4a-84a0-f8c037bad55c",
   "metadata": {},
   "outputs": [
    {
     "data": {
      "text/plain": [
       "[745, 658, 412]"
      ]
     },
     "execution_count": 87,
     "metadata": {},
     "output_type": "execute_result"
    }
   ],
   "source": [
    "list7[-4:-1]"
   ]
  },
  {
   "cell_type": "code",
   "execution_count": 89,
   "id": "5020f867-3827-4844-b28d-b87ea652f25a",
   "metadata": {},
   "outputs": [
    {
     "data": {
      "text/plain": [
       "[12, 22, 456, 63, 785, 957, 412, 45, 456, 123, 321, 745, 658, 412, 152]"
      ]
     },
     "execution_count": 89,
     "metadata": {},
     "output_type": "execute_result"
    }
   ],
   "source": [
    "list7[::]"
   ]
  },
  {
   "cell_type": "code",
   "execution_count": 91,
   "id": "aef256d8-50e4-437c-987e-06272d3bbf7f",
   "metadata": {},
   "outputs": [
    {
     "data": {
      "text/plain": [
       "True"
      ]
     },
     "execution_count": 91,
     "metadata": {},
     "output_type": "execute_result"
    }
   ],
   "source": [
    "3 == 3"
   ]
  },
  {
   "cell_type": "code",
   "execution_count": 93,
   "id": "9603c10b-b35a-4940-82d9-d31749a2a88b",
   "metadata": {},
   "outputs": [
    {
     "data": {
      "text/plain": [
       "False"
      ]
     },
     "execution_count": 93,
     "metadata": {},
     "output_type": "execute_result"
    }
   ],
   "source": [
    "3 < 2"
   ]
  },
  {
   "cell_type": "code",
   "execution_count": 99,
   "id": "06697d04-d508-4327-a100-739e023d9bfb",
   "metadata": {},
   "outputs": [
    {
     "name": "stdout",
     "output_type": "stream",
     "text": [
      "[] [1, 2, 3, 4, 5, 6]\n"
     ]
    }
   ],
   "source": [
    "print (list1,list2)"
   ]
  },
  {
   "cell_type": "code",
   "execution_count": 101,
   "id": "0553db22-04b7-4306-9292-e78ebe1f9c47",
   "metadata": {},
   "outputs": [],
   "source": [
    "list8 = [1,2,\"ARC\",True,[2,4]]"
   ]
  },
  {
   "cell_type": "code",
   "execution_count": 103,
   "id": "9b00d9d1-8485-4016-8a18-fac2c979c1c8",
   "metadata": {},
   "outputs": [
    {
     "data": {
      "text/plain": [
       "[1, 2, 'ARC', True, [2, 4]]"
      ]
     },
     "execution_count": 103,
     "metadata": {},
     "output_type": "execute_result"
    }
   ],
   "source": [
    "list8"
   ]
  },
  {
   "cell_type": "code",
   "execution_count": 105,
   "id": "350c72b0-8341-455b-b231-53608a0d128f",
   "metadata": {},
   "outputs": [
    {
     "data": {
      "text/plain": [
       "True"
      ]
     },
     "execution_count": 105,
     "metadata": {},
     "output_type": "execute_result"
    }
   ],
   "source": [
    "list8[3]"
   ]
  },
  {
   "cell_type": "code",
   "execution_count": null,
   "id": "9c1e7b76-3864-4016-a4f2-33f55717b984",
   "metadata": {},
   "outputs": [],
   "source": []
  }
 ],
 "metadata": {
  "kernelspec": {
   "display_name": "Python 3 (ipykernel)",
   "language": "python",
   "name": "python3"
  },
  "language_info": {
   "codemirror_mode": {
    "name": "ipython",
    "version": 3
   },
   "file_extension": ".py",
   "mimetype": "text/x-python",
   "name": "python",
   "nbconvert_exporter": "python",
   "pygments_lexer": "ipython3",
   "version": "3.12.4"
  }
 },
 "nbformat": 4,
 "nbformat_minor": 5
}
